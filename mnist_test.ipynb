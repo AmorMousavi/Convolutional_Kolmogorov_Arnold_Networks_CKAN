{
 "cells": [
  {
   "cell_type": "code",
   "execution_count": 4,
   "id": "09c55622-2ec5-44d2-a807-a64ddd6ff5f1",
   "metadata": {},
   "outputs": [
    {
     "name": "stdout",
     "output_type": "stream",
     "text": [
      "The autoreload extension is already loaded. To reload it, use:\n",
      "  %reload_ext autoreload\n"
     ]
    }
   ],
   "source": [
    "%load_ext autoreload\n",
    "%autoreload 2\n",
    "import matplotlib.pyplot as plt\n",
    "from tqdm import tqdm\n",
    "import numpy as np\n",
    "import pandas as pd\n",
    "from sklearn.metrics import precision_score, recall_score, f1_score\n",
    "\n",
    "import torch\n",
    "import torch.nn as nn\n",
    "import torch.optim as optim\n",
    "import torchvision.transforms as transforms\n",
    "from torchvision.datasets import MNIST\n",
    "from torch.utils.data import DataLoader"
   ]
  },
  {
   "cell_type": "code",
   "execution_count": 34,
   "id": "f5e25957-0882-4867-8c26-f1a8ca5e3cdc",
   "metadata": {},
   "outputs": [],
   "source": [
    "from model.KANModel import KKAN_Convolutional_Network ## Kolmogrov_Arnold CNN Model\n",
    "from model.MLPModel import ConvNet ## MLP CNN Model (Big)\n",
    "from model.SimpleMLP import SimpleCNN ## MLP CNN Model (Big)\n",
    "from model.train_test import train_and_test_models"
   ]
  },
  {
   "cell_type": "code",
   "execution_count": 14,
   "id": "0288b840-fbf9-4b46-acfa-cba86d7f4fdc",
   "metadata": {},
   "outputs": [
    {
     "name": "stdout",
     "output_type": "stream",
     "text": [
      "Downloading http://yann.lecun.com/exdb/mnist/train-images-idx3-ubyte.gz\n",
      "Using downloaded and verified file: ./data/MNIST/raw/train-images-idx3-ubyte.gz\n",
      "Extracting ./data/MNIST/raw/train-images-idx3-ubyte.gz to ./data/MNIST/raw\n",
      "\n",
      "Downloading http://yann.lecun.com/exdb/mnist/train-labels-idx1-ubyte.gz\n",
      "Failed to download (trying next):\n",
      "HTTP Error 403: Forbidden\n",
      "\n",
      "Downloading https://ossci-datasets.s3.amazonaws.com/mnist/train-labels-idx1-ubyte.gz\n",
      "Downloading https://ossci-datasets.s3.amazonaws.com/mnist/train-labels-idx1-ubyte.gz to ./data/MNIST/raw/train-labels-idx1-ubyte.gz\n"
     ]
    },
    {
     "name": "stderr",
     "output_type": "stream",
     "text": [
      "100%|██████████████████████████████████| 28881/28881 [00:00<00:00, 35171.26it/s]\n"
     ]
    },
    {
     "name": "stdout",
     "output_type": "stream",
     "text": [
      "Extracting ./data/MNIST/raw/train-labels-idx1-ubyte.gz to ./data/MNIST/raw\n",
      "\n",
      "Downloading http://yann.lecun.com/exdb/mnist/t10k-images-idx3-ubyte.gz\n",
      "Failed to download (trying next):\n",
      "HTTP Error 403: Forbidden\n",
      "\n",
      "Downloading https://ossci-datasets.s3.amazonaws.com/mnist/t10k-images-idx3-ubyte.gz\n",
      "Downloading https://ossci-datasets.s3.amazonaws.com/mnist/t10k-images-idx3-ubyte.gz to ./data/MNIST/raw/t10k-images-idx3-ubyte.gz\n"
     ]
    },
    {
     "name": "stderr",
     "output_type": "stream",
     "text": [
      "100%|██████████████████████████████| 1648877/1648877 [00:19<00:00, 84318.26it/s]\n"
     ]
    },
    {
     "name": "stdout",
     "output_type": "stream",
     "text": [
      "Extracting ./data/MNIST/raw/t10k-images-idx3-ubyte.gz to ./data/MNIST/raw\n",
      "\n",
      "Downloading http://yann.lecun.com/exdb/mnist/t10k-labels-idx1-ubyte.gz\n",
      "Failed to download (trying next):\n",
      "HTTP Error 403: Forbidden\n",
      "\n",
      "Downloading https://ossci-datasets.s3.amazonaws.com/mnist/t10k-labels-idx1-ubyte.gz\n",
      "Downloading https://ossci-datasets.s3.amazonaws.com/mnist/t10k-labels-idx1-ubyte.gz to ./data/MNIST/raw/t10k-labels-idx1-ubyte.gz\n"
     ]
    },
    {
     "name": "stderr",
     "output_type": "stream",
     "text": [
      "100%|██████████████████████████████████| 4542/4542 [00:00<00:00, 3047596.99it/s]"
     ]
    },
    {
     "name": "stdout",
     "output_type": "stream",
     "text": [
      "Extracting ./data/MNIST/raw/t10k-labels-idx1-ubyte.gz to ./data/MNIST/raw\n",
      "\n"
     ]
    },
    {
     "name": "stderr",
     "output_type": "stream",
     "text": [
      "\n"
     ]
    }
   ],
   "source": [
    "transform = transforms.Compose([transforms.ToTensor(), transforms.Normalize((0.5,), (0.5,))])\n",
    "mnist_train = MNIST(root='./data', train=True, download=True, transform=transform)\n",
    "mnist_test = MNIST(root='./data', train=False, download=True, transform=transform)\n",
    "train_loader = DataLoader(mnist_train, batch_size=64, shuffle=True)\n",
    "test_loader = DataLoader(mnist_test, batch_size=64, shuffle=False)"
   ]
  },
  {
   "cell_type": "code",
   "execution_count": 15,
   "id": "1da2779d-5bac-4f09-95f5-4a225955ee28",
   "metadata": {},
   "outputs": [],
   "source": [
    "device = torch.device(\"cuda\" if torch.cuda.is_available() else \"cpu\") ## setting the device"
   ]
  },
  {
   "cell_type": "code",
   "execution_count": 17,
   "id": "f28aaa2a-8ac8-46dd-82ac-f98b57f33542",
   "metadata": {},
   "outputs": [
    {
     "name": "stderr",
     "output_type": "stream",
     "text": [
      "100%|████████████████████████████████████████| 938/938 [00:06<00:00, 139.45it/s]\n"
     ]
    },
    {
     "name": "stdout",
     "output_type": "stream",
     "text": [
      "End of Epoch 1: Train Loss: 0.192012, Test Loss: 0.0007, Accuracy: 98.66%\n"
     ]
    },
    {
     "name": "stderr",
     "output_type": "stream",
     "text": [
      "100%|████████████████████████████████████████| 938/938 [00:06<00:00, 148.19it/s]\n"
     ]
    },
    {
     "name": "stdout",
     "output_type": "stream",
     "text": [
      "End of Epoch 2: Train Loss: 0.060995, Test Loss: 0.0005, Accuracy: 99.09%\n"
     ]
    },
    {
     "name": "stderr",
     "output_type": "stream",
     "text": [
      "100%|████████████████████████████████████████| 938/938 [00:06<00:00, 145.61it/s]\n"
     ]
    },
    {
     "name": "stdout",
     "output_type": "stream",
     "text": [
      "End of Epoch 3: Train Loss: 0.045924, Test Loss: 0.0004, Accuracy: 99.22%\n"
     ]
    },
    {
     "name": "stderr",
     "output_type": "stream",
     "text": [
      "100%|████████████████████████████████████████| 938/938 [00:06<00:00, 147.29it/s]\n"
     ]
    },
    {
     "name": "stdout",
     "output_type": "stream",
     "text": [
      "End of Epoch 4: Train Loss: 0.035159, Test Loss: 0.0003, Accuracy: 99.39%\n"
     ]
    },
    {
     "name": "stderr",
     "output_type": "stream",
     "text": [
      "100%|████████████████████████████████████████| 938/938 [00:06<00:00, 147.36it/s]\n"
     ]
    },
    {
     "name": "stdout",
     "output_type": "stream",
     "text": [
      "End of Epoch 5: Train Loss: 0.028672, Test Loss: 0.0003, Accuracy: 99.43%\n"
     ]
    },
    {
     "name": "stderr",
     "output_type": "stream",
     "text": [
      "100%|████████████████████████████████████████| 938/938 [00:06<00:00, 146.29it/s]\n"
     ]
    },
    {
     "name": "stdout",
     "output_type": "stream",
     "text": [
      "End of Epoch 6: Train Loss: 0.021120, Test Loss: 0.0003, Accuracy: 99.44%\n"
     ]
    },
    {
     "name": "stderr",
     "output_type": "stream",
     "text": [
      "100%|████████████████████████████████████████| 938/938 [00:06<00:00, 144.82it/s]\n"
     ]
    },
    {
     "name": "stdout",
     "output_type": "stream",
     "text": [
      "End of Epoch 7: Train Loss: 0.018609, Test Loss: 0.0003, Accuracy: 99.49%\n"
     ]
    },
    {
     "name": "stderr",
     "output_type": "stream",
     "text": [
      "100%|████████████████████████████████████████| 938/938 [00:06<00:00, 145.67it/s]\n"
     ]
    },
    {
     "name": "stdout",
     "output_type": "stream",
     "text": [
      "End of Epoch 8: Train Loss: 0.017426, Test Loss: 0.0002, Accuracy: 99.53%\n"
     ]
    },
    {
     "name": "stderr",
     "output_type": "stream",
     "text": [
      "100%|████████████████████████████████████████| 938/938 [00:06<00:00, 145.31it/s]\n"
     ]
    },
    {
     "name": "stdout",
     "output_type": "stream",
     "text": [
      "End of Epoch 9: Train Loss: 0.013832, Test Loss: 0.0002, Accuracy: 99.56%\n"
     ]
    },
    {
     "name": "stderr",
     "output_type": "stream",
     "text": [
      "100%|████████████████████████████████████████| 938/938 [00:06<00:00, 145.17it/s]\n"
     ]
    },
    {
     "name": "stdout",
     "output_type": "stream",
     "text": [
      "End of Epoch 10: Train Loss: 0.012319, Test Loss: 0.0002, Accuracy: 99.51%\n"
     ]
    }
   ],
   "source": [
    "model_ConvNet = ConvNet()\n",
    "model_ConvNet.to(device)\n",
    "optimizer_ConvNet = optim.AdamW(model_ConvNet.parameters(), lr=1e-3, weight_decay=1e-4)\n",
    "scheduler_ConvNet = optim.lr_scheduler.ExponentialLR(optimizer_ConvNet, gamma=0.8)\n",
    "criterion_ConvNet = nn.CrossEntropyLoss()\n",
    "all_train_loss_ConvNet, all_test_loss_ConvNet, all_test_accuracy_ConvNet, all_test_precision_ConvNet, all_test_recall_ConvNet, all_test_f1_ConvNet = train_and_test_models(model_ConvNet, device, train_loader, test_loader, optimizer_ConvNet, criterion_ConvNet, epochs=10, scheduler=scheduler_ConvNet)"
   ]
  },
  {
   "cell_type": "code",
   "execution_count": 35,
   "id": "0f93b3e7-c401-441b-80c0-1c7cdcb1a020",
   "metadata": {},
   "outputs": [
    {
     "name": "stderr",
     "output_type": "stream",
     "text": [
      "100%|████████████████████████████████████████| 938/938 [00:03<00:00, 235.84it/s]\n"
     ]
    },
    {
     "name": "stdout",
     "output_type": "stream",
     "text": [
      "End of Epoch 1: Train Loss: 0.415570, Test Loss: 0.0023, Accuracy: 95.59%\n"
     ]
    },
    {
     "name": "stderr",
     "output_type": "stream",
     "text": [
      "100%|████████████████████████████████████████| 938/938 [00:03<00:00, 237.47it/s]\n"
     ]
    },
    {
     "name": "stdout",
     "output_type": "stream",
     "text": [
      "End of Epoch 2: Train Loss: 0.128872, Test Loss: 0.0015, Accuracy: 97.15%\n"
     ]
    },
    {
     "name": "stderr",
     "output_type": "stream",
     "text": [
      "100%|████████████████████████████████████████| 938/938 [00:03<00:00, 241.44it/s]\n"
     ]
    },
    {
     "name": "stdout",
     "output_type": "stream",
     "text": [
      "End of Epoch 3: Train Loss: 0.101520, Test Loss: 0.0014, Accuracy: 97.29%\n"
     ]
    },
    {
     "name": "stderr",
     "output_type": "stream",
     "text": [
      "100%|████████████████████████████████████████| 938/938 [00:04<00:00, 222.76it/s]\n"
     ]
    },
    {
     "name": "stdout",
     "output_type": "stream",
     "text": [
      "End of Epoch 4: Train Loss: 0.088963, Test Loss: 0.0012, Accuracy: 97.49%\n"
     ]
    },
    {
     "name": "stderr",
     "output_type": "stream",
     "text": [
      "100%|████████████████████████████████████████| 938/938 [00:03<00:00, 242.43it/s]\n"
     ]
    },
    {
     "name": "stdout",
     "output_type": "stream",
     "text": [
      "End of Epoch 5: Train Loss: 0.081487, Test Loss: 0.0012, Accuracy: 97.82%\n"
     ]
    },
    {
     "name": "stderr",
     "output_type": "stream",
     "text": [
      "100%|████████████████████████████████████████| 938/938 [00:03<00:00, 243.83it/s]\n"
     ]
    },
    {
     "name": "stdout",
     "output_type": "stream",
     "text": [
      "End of Epoch 6: Train Loss: 0.075795, Test Loss: 0.0011, Accuracy: 97.74%\n"
     ]
    },
    {
     "name": "stderr",
     "output_type": "stream",
     "text": [
      "100%|████████████████████████████████████████| 938/938 [00:03<00:00, 240.10it/s]\n"
     ]
    },
    {
     "name": "stdout",
     "output_type": "stream",
     "text": [
      "End of Epoch 7: Train Loss: 0.072419, Test Loss: 0.0010, Accuracy: 97.86%\n"
     ]
    },
    {
     "name": "stderr",
     "output_type": "stream",
     "text": [
      "100%|████████████████████████████████████████| 938/938 [00:03<00:00, 236.90it/s]\n"
     ]
    },
    {
     "name": "stdout",
     "output_type": "stream",
     "text": [
      "End of Epoch 8: Train Loss: 0.069480, Test Loss: 0.0011, Accuracy: 97.76%\n"
     ]
    },
    {
     "name": "stderr",
     "output_type": "stream",
     "text": [
      "100%|████████████████████████████████████████| 938/938 [00:04<00:00, 233.85it/s]\n"
     ]
    },
    {
     "name": "stdout",
     "output_type": "stream",
     "text": [
      "End of Epoch 9: Train Loss: 0.067437, Test Loss: 0.0010, Accuracy: 97.87%\n"
     ]
    },
    {
     "name": "stderr",
     "output_type": "stream",
     "text": [
      "100%|████████████████████████████████████████| 938/938 [00:04<00:00, 223.32it/s]\n"
     ]
    },
    {
     "name": "stdout",
     "output_type": "stream",
     "text": [
      "End of Epoch 10: Train Loss: 0.065810, Test Loss: 0.0010, Accuracy: 97.91%\n"
     ]
    }
   ],
   "source": [
    "model_SimpleCNN = SimpleCNN()\n",
    "model_SimpleCNN.to(device)\n",
    "optimizer_SimpleCNN = optim.AdamW(model_SimpleCNN.parameters(), lr=1e-3, weight_decay=1e-4)\n",
    "scheduler_SimpleCNN = optim.lr_scheduler.ExponentialLR(optimizer_SimpleCNN, gamma=0.8)\n",
    "criterion_SimpleCNN = nn.CrossEntropyLoss()\n",
    "all_train_loss_SimpleCNN, all_test_loss_SimpleCNN, all_test_accuracy_SimpleCNN, all_test_precision_SimpleCNN, all_test_recall_SimpleCNN, all_test_f1_SimpleCNN = train_and_test_models(model_SimpleCNN, device, train_loader, test_loader, optimizer_SimpleCNN, criterion_SimpleCNN, epochs=10, scheduler=scheduler_SimpleCNN)\n"
   ]
  },
  {
   "cell_type": "code",
   "execution_count": 28,
   "id": "b1aab3b1-c879-4cc4-8759-443c4cfa41c3",
   "metadata": {},
   "outputs": [
    {
     "name": "stderr",
     "output_type": "stream",
     "text": [
      "100%|█████████████████████████████████████████| 938/938 [01:25<00:00, 10.99it/s]\n"
     ]
    },
    {
     "name": "stdout",
     "output_type": "stream",
     "text": [
      "End of Epoch 1: Train Loss: 0.293684, Test Loss: 0.0013, Accuracy: 97.39%\n"
     ]
    },
    {
     "name": "stderr",
     "output_type": "stream",
     "text": [
      "100%|█████████████████████████████████████████| 938/938 [01:25<00:00, 10.97it/s]\n"
     ]
    },
    {
     "name": "stdout",
     "output_type": "stream",
     "text": [
      "End of Epoch 2: Train Loss: 0.071361, Test Loss: 0.0010, Accuracy: 97.94%\n"
     ]
    },
    {
     "name": "stderr",
     "output_type": "stream",
     "text": [
      "100%|█████████████████████████████████████████| 938/938 [01:25<00:00, 10.93it/s]\n"
     ]
    },
    {
     "name": "stdout",
     "output_type": "stream",
     "text": [
      "End of Epoch 3: Train Loss: 0.050045, Test Loss: 0.0008, Accuracy: 98.32%\n"
     ]
    },
    {
     "name": "stderr",
     "output_type": "stream",
     "text": [
      "100%|█████████████████████████████████████████| 938/938 [01:25<00:00, 10.96it/s]\n"
     ]
    },
    {
     "name": "stdout",
     "output_type": "stream",
     "text": [
      "End of Epoch 4: Train Loss: 0.038911, Test Loss: 0.0008, Accuracy: 98.44%\n"
     ]
    },
    {
     "name": "stderr",
     "output_type": "stream",
     "text": [
      "100%|█████████████████████████████████████████| 938/938 [01:25<00:00, 10.94it/s]\n"
     ]
    },
    {
     "name": "stdout",
     "output_type": "stream",
     "text": [
      "End of Epoch 5: Train Loss: 0.031125, Test Loss: 0.0007, Accuracy: 98.48%\n"
     ]
    },
    {
     "name": "stderr",
     "output_type": "stream",
     "text": [
      "100%|█████████████████████████████████████████| 938/938 [01:25<00:00, 10.97it/s]\n"
     ]
    },
    {
     "name": "stdout",
     "output_type": "stream",
     "text": [
      "End of Epoch 6: Train Loss: 0.026033, Test Loss: 0.0007, Accuracy: 98.44%\n"
     ]
    },
    {
     "name": "stderr",
     "output_type": "stream",
     "text": [
      "100%|█████████████████████████████████████████| 938/938 [01:25<00:00, 11.00it/s]\n"
     ]
    },
    {
     "name": "stdout",
     "output_type": "stream",
     "text": [
      "End of Epoch 7: Train Loss: 0.022232, Test Loss: 0.0007, Accuracy: 98.49%\n"
     ]
    },
    {
     "name": "stderr",
     "output_type": "stream",
     "text": [
      "100%|█████████████████████████████████████████| 938/938 [01:25<00:00, 11.00it/s]\n"
     ]
    },
    {
     "name": "stdout",
     "output_type": "stream",
     "text": [
      "End of Epoch 8: Train Loss: 0.019433, Test Loss: 0.0007, Accuracy: 98.49%\n"
     ]
    },
    {
     "name": "stderr",
     "output_type": "stream",
     "text": [
      "100%|█████████████████████████████████████████| 938/938 [01:25<00:00, 10.99it/s]\n"
     ]
    },
    {
     "name": "stdout",
     "output_type": "stream",
     "text": [
      "End of Epoch 9: Train Loss: 0.017298, Test Loss: 0.0007, Accuracy: 98.52%\n"
     ]
    },
    {
     "name": "stderr",
     "output_type": "stream",
     "text": [
      "100%|█████████████████████████████████████████| 938/938 [01:25<00:00, 10.93it/s]\n"
     ]
    },
    {
     "name": "stdout",
     "output_type": "stream",
     "text": [
      "End of Epoch 10: Train Loss: 0.015720, Test Loss: 0.0007, Accuracy: 98.53%\n"
     ]
    }
   ],
   "source": [
    "model_KKAN_Convolutional_Network = KKAN_Convolutional_Network(device = device)\n",
    "model_KKAN_Convolutional_Network.to(device)\n",
    "optimizer_KKAN_Convolutional_Network = optim.AdamW(model_KKAN_Convolutional_Network.parameters(), lr=1e-3, weight_decay=1e-4)\n",
    "scheduler_KKAN_Convolutional_Network = optim.lr_scheduler.ExponentialLR(optimizer_KKAN_Convolutional_Network, gamma=0.8)\n",
    "criterion_KKAN_Convolutional_Network = nn.CrossEntropyLoss()\n",
    "\n",
    "all_train_loss_KKAN_Convolutional_Network, all_test_loss_KKAN_Convolutional_Network, all_test_accuracy_KKAN_Convolutional_Network, all_test_precision_KKAN_Convolutional_Network, all_test_recall_KKAN_Convolutional_Network, all_test_f1_KKAN_Convolutional_Network = train_and_test_models(model_KKAN_Convolutional_Network, device, train_loader, test_loader, optimizer_KKAN_Convolutional_Network, criterion_KKAN_Convolutional_Network, epochs=10, scheduler=scheduler_KKAN_Convolutional_Network)\n"
   ]
  },
  {
   "cell_type": "code",
   "execution_count": 36,
   "id": "b9fb7519-0a1c-41e1-9f55-6b83cdbcc524",
   "metadata": {},
   "outputs": [
    {
     "data": {
      "image/png": "[encoded data removed]",
      "text/plain": [
       "<Figure size 1600x500 with 2 Axes>"
      ]
     },
     "metadata": {},
     "output_type": "display_data"
    }
   ],
   "source": [
    "def count_parameters(model):\n",
    "    return sum(p.numel() for p in model.parameters() if p.requires_grad)\n",
    "\n",
    "fig, (ax1, ax2) = plt.subplots(1, 2, figsize=(16, 5))  \n",
    "\n",
    "ax1.plot(all_test_loss_SimpleCNN, label='Loss ConvNet(Small)', color='red')\n",
    "\n",
    "ax1.plot(all_test_loss_ConvNet, label='Loss ConvNet (Big)', color='purple')\n",
    "ax1.plot(all_test_loss_KKAN_Convolutional_Network, label='Loss KKAN', color='orange')\n",
    "\n",
    "ax1.set_title('Loss Test vs Epochs')\n",
    "ax1.set_xlabel('Epochs')\n",
    "ax1.set_ylabel('Loss')\n",
    "ax1.legend()\n",
    "ax1.grid(True)\n",
    "\n",
    "ax2.scatter(count_parameters(model_SimpleCNN), max(all_test_accuracy_SimpleCNN), color='red', label='ConvNet (Small)')\n",
    "ax2.scatter(count_parameters(model_ConvNet), max(all_test_accuracy_ConvNet), color='purple', label='ConvNet (Big)')\n",
    "ax2.scatter(count_parameters(model_KKAN_Convolutional_Network), max(all_test_accuracy_KKAN_Convolutional_Network), color='orange', label='KKAN')\n",
    "\n",
    "ax2.set_title('Number of Parameters vs Accuracy')\n",
    "ax2.set_xlabel('Number of Parameters')\n",
    "ax2.set_ylabel('Accuracy (%)')\n",
    "ax2.legend() \n",
    "ax2.grid(True)\n",
    "\n",
    "plt.tight_layout()\n",
    "plt.show()"
   ]
  },
  {
   "cell_type": "code",
   "execution_count": 39,
   "id": "98aa26cb-a611-441c-8c27-8520dd4453b4",
   "metadata": {},
   "outputs": [],
   "source": [
    "def highlight_max(s):\n",
    "    is_max = s == s.max()\n",
    "    return ['font-weight: bold' if v else '' for v in is_max]\n",
    "\n",
    "# Listas para acumular datos\n",
    "accs = []\n",
    "precision = []\n",
    "recall = []\n",
    "f1s = []\n",
    "params_counts = []\n",
    "\n",
    "\n",
    "models = [model_SimpleCNN, model_ConvNet, model_KKAN_Convolutional_Network]\n",
    "\n",
    "\n",
    "for i, m in enumerate(models):\n",
    "    index = np.argmax(m.all_test_accuracy)\n",
    "    params_counts.append(count_parameters(m))\n",
    "    accs.append(m.all_test_accuracy[index])\n",
    "    precision.append(m.all_test_precision[index])\n",
    "    recall.append(m.all_test_recall[index])\n",
    "    f1s.append(m.all_test_f1[index])\n",
    "\n",
    "\n",
    "df = pd.DataFrame({\n",
    "    \"Test Accuracy\": accs,\n",
    "    \"Test Precision\": precision,\n",
    "    \"Test Recall\": recall,\n",
    "    \"Test F1 Score\": f1s,\n",
    "    \"Number of Parameters\": params_counts\n",
    "}, index=[\"ConvNet (Small)\",\"ConvNet (Big)\", \"KKAN\"])\n",
    "\n",
    "df.to_csv('experiment_28x28.csv', index=False)\n",
    "\n",
    "df_styled = df.style.apply(highlight_max, subset=df.columns[:], axis=0).format('{:.3f}')"
   ]
  },
  {
   "cell_type": "code",
   "execution_count": 40,
   "id": "01013445-dbe8-4154-bce1-6c2b684ea1dc",
   "metadata": {},
   "outputs": [
    {
     "data": {
      "text/html": [
       "<style type=\"text/css\">\n",
       "#T_303e1_row1_col0, #T_303e1_row1_col1, #T_303e1_row1_col2, #T_303e1_row1_col3, #T_303e1_row1_col4 {\n",
       "  font-weight: bold;\n",
       "}\n",
       "</style>\n",
       "<table id=\"T_303e1\">\n",
       "  <thead>\n",
       "    <tr>\n",
       "      <th class=\"blank level0\" >&nbsp;</th>\n",
       "      <th id=\"T_303e1_level0_col0\" class=\"col_heading level0 col0\" >Test Accuracy</th>\n",
       "      <th id=\"T_303e1_level0_col1\" class=\"col_heading level0 col1\" >Test Precision</th>\n",
       "      <th id=\"T_303e1_level0_col2\" class=\"col_heading level0 col2\" >Test Recall</th>\n",
       "      <th id=\"T_303e1_level0_col3\" class=\"col_heading level0 col3\" >Test F1 Score</th>\n",
       "      <th id=\"T_303e1_level0_col4\" class=\"col_heading level0 col4\" >Number of Parameters</th>\n",
       "    </tr>\n",
       "  </thead>\n",
       "  <tbody>\n",
       "    <tr>\n",
       "      <th id=\"T_303e1_level0_row0\" class=\"row_heading level0 row0\" >ConvNet (Small)</th>\n",
       "      <td id=\"T_303e1_row0_col0\" class=\"data row0 col0\" >0.979</td>\n",
       "      <td id=\"T_303e1_row0_col1\" class=\"data row0 col1\" >0.979</td>\n",
       "      <td id=\"T_303e1_row0_col2\" class=\"data row0 col2\" >0.979</td>\n",
       "      <td id=\"T_303e1_row0_col3\" class=\"data row0 col3\" >0.979</td>\n",
       "      <td id=\"T_303e1_row0_col4\" class=\"data row0 col4\" >2740.000</td>\n",
       "    </tr>\n",
       "    <tr>\n",
       "      <th id=\"T_303e1_level0_row1\" class=\"row_heading level0 row1\" >ConvNet (Big)</th>\n",
       "      <td id=\"T_303e1_row1_col0\" class=\"data row1 col0\" >0.996</td>\n",
       "      <td id=\"T_303e1_row1_col1\" class=\"data row1 col1\" >0.996</td>\n",
       "      <td id=\"T_303e1_row1_col2\" class=\"data row1 col2\" >0.996</td>\n",
       "      <td id=\"T_303e1_row1_col3\" class=\"data row1 col3\" >0.996</td>\n",
       "      <td id=\"T_303e1_row1_col4\" class=\"data row1 col4\" >887530.000</td>\n",
       "    </tr>\n",
       "    <tr>\n",
       "      <th id=\"T_303e1_level0_row2\" class=\"row_heading level0 row2\" >KKAN</th>\n",
       "      <td id=\"T_303e1_row2_col0\" class=\"data row2 col0\" >0.985</td>\n",
       "      <td id=\"T_303e1_row2_col1\" class=\"data row2 col1\" >0.985</td>\n",
       "      <td id=\"T_303e1_row2_col2\" class=\"data row2 col2\" >0.985</td>\n",
       "      <td id=\"T_303e1_row2_col3\" class=\"data row2 col3\" >0.985</td>\n",
       "      <td id=\"T_303e1_row2_col4\" class=\"data row2 col4\" >94650.000</td>\n",
       "    </tr>\n",
       "  </tbody>\n",
       "</table>\n"
      ],
      "text/plain": [
       "<pandas.io.formats.style.Styler at 0x77487c413010>"
      ]
     },
     "execution_count": 40,
     "metadata": {},
     "output_type": "execute_result"
    }
   ],
   "source": [
    "df_styled"
   ]
  }
 ],
 "metadata": {
  "kernelspec": {
   "display_name": "Python 3 (ipykernel)",
   "language": "python",
   "name": "python3"
  },
  "language_info": {
   "codemirror_mode": {
    "name": "ipython",
    "version": 3
   },
   "file_extension": ".py",
   "mimetype": "text/x-python",
   "name": "python",
   "nbconvert_exporter": "python",
   "pygments_lexer": "ipython3",
   "version": "3.11.7"
  }
 },
 "nbformat": 4,
 "nbformat_minor": 5
}
